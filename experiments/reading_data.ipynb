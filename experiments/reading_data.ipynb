{
 "cells": [
  {
   "cell_type": "code",
   "execution_count": 55,
   "metadata": {},
   "outputs": [
    {
     "name": "stdout",
     "output_type": "stream",
     "text": [
      "             timestamp                           log\n",
      "0  1726585205429061000   Starting ctrldrift operator\n",
      "1  1726585205429066700        Sending reference data\n",
      "2  1726585265130441400       Stopping reference data\n",
      "3  1726585265130926600            Sending drift data\n",
      "4  1726585851414420400           Stopping drift data\n",
      "5  1726585851542068700   Stopping ctrldrift operator\n",
      "1726585205429061000\n",
      "      timestamp                           log\n",
      "0  0.000000e+00   Starting ctrldrift operator\n",
      "1  5.700000e-07        Sending reference data\n",
      "2  5.970138e+00       Stopping reference data\n",
      "3  5.970187e+00            Sending drift data\n",
      "4  6.459854e+01           Stopping drift data\n",
      "5  6.461130e+01   Stopping ctrldrift operator\n"
     ]
    }
   ],
   "source": [
    "###print graph\n",
    "import matplotlib.pyplot as plt\n",
    "import pandas as pd\n",
    "import os\n",
    "import time\n",
    "import re\n",
    "#set working directory\n",
    "\n",
    "home = os.environ[\"HOME\"]\n",
    "\n",
    "os.chdir(f\"{home}/tiniMLVM\")\n",
    "\n",
    "\n",
    "## read controller experiment logs\n",
    "\n",
    "#delete lines non starting with a number\n",
    "with open(\"./experiments/drift_experiment.log\", \"r\") as f:\n",
    "    text = f.read()\n",
    "\n",
    "text = re.sub(r\"^[^0-9].*\\n\", \"\", text, flags=re.MULTILINE)\n",
    "\n",
    "#write the text back to the file\n",
    "with open(\"./experiments/drift_experiment.log\", \"w\") as f:\n",
    "    f.write(text)\n",
    "\n",
    "df_controller = pd.read_csv(\n",
    "    \"./experiments/drift_experiment.log\", names=[\"timestamp\", \"log\"],dtype={\"timestamp\": int, \"log\": str}\n",
    ").dropna()\n",
    "\n",
    "print(df_controller)\n",
    "\n",
    "## read drift deploy logs\n",
    "\n",
    "# get drift-deploy log file names\n",
    "\n",
    "log_files = os.listdir(\"./experiments\")\n",
    "\n",
    "# read drift-deploy logs\n",
    "df_drift_deploy = pd.DataFrame()\n",
    "\n",
    "for log_file in log_files:\n",
    "    if log_file.startswith(\"drift-deploy\"):\n",
    "        #get string text\n",
    "        with open(f\"./experiments/{log_file}\", \"r\") as f:\n",
    "            text = f.read()\n",
    "\n",
    "        #if there is only one comma in a line delete the \\n\n",
    "\n",
    "        text = re.sub(r\"(^[^,]*,[^,]*[^e])\\n\", r\"\\1\", text, flags=re.MULTILINE)\n",
    "        text = re.sub(r\"(^[^,]*,[^,]*[^e])\\n\", r\"\\1\", text, flags=re.MULTILINE)\n",
    "        \n",
    "        #delete the double spaces\n",
    "        text = text.replace(\"  \", \" \")\n",
    "\n",
    "\n",
    "        #write the text back to the file\n",
    "        with open(f\"./experiments/{log_file}\", \"w\") as f:\n",
    "            f.write(text)\n",
    "        \n",
    "        df = pd.read_csv(\n",
    "            f\"./experiments/{log_file}\",dtype={\"timestamp\": int, \"p_value\": str, \"drift\": bool}\n",
    "        )\n",
    "        df_drift_deploy = pd.concat([df_drift_deploy, df])\n",
    "\n",
    "### for each list in p_value column convert to list and get max value\n",
    "df_drift_deploy['p_value'] = df_drift_deploy['p_value'].apply(lambda x: max([float(i) for i in x[1:-1].split(' ')]))\n",
    "\n",
    "\n",
    "#subtract to all timestamps the first timestamp\n",
    "first_timestamp = df_controller['timestamp'].iloc[0]\n",
    "print(first_timestamp)\n",
    "df_controller['timestamp'] = (df_controller['timestamp'] - first_timestamp)/10e9\n",
    "df_drift_deploy['timestamp'] = (df_drift_deploy['timestamp'] - first_timestamp)/10e9\n",
    "\n",
    "print(df_controller)\n"
   ]
  },
  {
   "cell_type": "code",
   "execution_count": 70,
   "metadata": {},
   "outputs": [
    {
     "ename": "ParserError",
     "evalue": "Error tokenizing data. C error: Expected 4 fields in line 5, saw 5\n",
     "output_type": "error",
     "traceback": [
      "\u001b[0;31m---------------------------------------------------------------------------\u001b[0m",
      "\u001b[0;31mParserError\u001b[0m                               Traceback (most recent call last)",
      "Cell \u001b[0;32mIn[70], line 14\u001b[0m\n\u001b[1;32m     11\u001b[0m \u001b[38;5;28;01mwith\u001b[39;00m \u001b[38;5;28mopen\u001b[39m(\u001b[38;5;124m\"\u001b[39m\u001b[38;5;124m./experiments/drift_detection_logs_refined.log\u001b[39m\u001b[38;5;124m\"\u001b[39m, \u001b[38;5;124m\"\u001b[39m\u001b[38;5;124mw\u001b[39m\u001b[38;5;124m\"\u001b[39m) \u001b[38;5;28;01mas\u001b[39;00m f:\n\u001b[1;32m     12\u001b[0m     f\u001b[38;5;241m.\u001b[39mwrite(text)\n\u001b[0;32m---> 14\u001b[0m df_drift_detection \u001b[38;5;241m=\u001b[39m \u001b[43mpd\u001b[49m\u001b[38;5;241;43m.\u001b[39;49m\u001b[43mread_csv\u001b[49m\u001b[43m(\u001b[49m\n\u001b[1;32m     15\u001b[0m \u001b[43m    \u001b[49m\u001b[38;5;124;43m\"\u001b[39;49m\u001b[38;5;124;43m./experiments/drift_detection_logs_refined.log\u001b[39;49m\u001b[38;5;124;43m\"\u001b[39;49m\u001b[43m,\u001b[49m\u001b[43m \u001b[49m\u001b[43mnames\u001b[49m\u001b[38;5;241;43m=\u001b[39;49m\u001b[43m[\u001b[49m\u001b[38;5;124;43m\"\u001b[39;49m\u001b[38;5;124;43mtimestamp\u001b[39;49m\u001b[38;5;124;43m\"\u001b[39;49m\u001b[43m,\u001b[49m\u001b[43m \u001b[49m\u001b[38;5;124;43m\"\u001b[39;49m\u001b[38;5;124;43mlevel\u001b[39;49m\u001b[38;5;124;43m\"\u001b[39;49m\u001b[43m,\u001b[49m\u001b[38;5;124;43m\"\u001b[39;49m\u001b[38;5;124;43mtype\u001b[39;49m\u001b[38;5;124;43m\"\u001b[39;49m\u001b[43m \u001b[49m\u001b[43m,\u001b[49m\u001b[38;5;124;43m\"\u001b[39;49m\u001b[38;5;124;43mlog\u001b[39;49m\u001b[38;5;124;43m\"\u001b[39;49m\u001b[43m]\u001b[49m\u001b[43m,\u001b[49m\u001b[43msep\u001b[49m\u001b[38;5;241;43m=\u001b[39;49m\u001b[38;5;124;43m\"\u001b[39;49m\u001b[38;5;130;43;01m\\t\u001b[39;49;00m\u001b[38;5;124;43m\"\u001b[39;49m\n\u001b[1;32m     16\u001b[0m \u001b[43m)\u001b[49m\n\u001b[1;32m     18\u001b[0m \u001b[38;5;28mprint\u001b[39m(df_drift_detection)\n",
      "File \u001b[0;32m~/tiniMLVM/experiments_venv/lib/python3.10/site-packages/pandas/io/parsers/readers.py:1026\u001b[0m, in \u001b[0;36mread_csv\u001b[0;34m(filepath_or_buffer, sep, delimiter, header, names, index_col, usecols, dtype, engine, converters, true_values, false_values, skipinitialspace, skiprows, skipfooter, nrows, na_values, keep_default_na, na_filter, verbose, skip_blank_lines, parse_dates, infer_datetime_format, keep_date_col, date_parser, date_format, dayfirst, cache_dates, iterator, chunksize, compression, thousands, decimal, lineterminator, quotechar, quoting, doublequote, escapechar, comment, encoding, encoding_errors, dialect, on_bad_lines, delim_whitespace, low_memory, memory_map, float_precision, storage_options, dtype_backend)\u001b[0m\n\u001b[1;32m   1013\u001b[0m kwds_defaults \u001b[38;5;241m=\u001b[39m _refine_defaults_read(\n\u001b[1;32m   1014\u001b[0m     dialect,\n\u001b[1;32m   1015\u001b[0m     delimiter,\n\u001b[0;32m   (...)\u001b[0m\n\u001b[1;32m   1022\u001b[0m     dtype_backend\u001b[38;5;241m=\u001b[39mdtype_backend,\n\u001b[1;32m   1023\u001b[0m )\n\u001b[1;32m   1024\u001b[0m kwds\u001b[38;5;241m.\u001b[39mupdate(kwds_defaults)\n\u001b[0;32m-> 1026\u001b[0m \u001b[38;5;28;01mreturn\u001b[39;00m \u001b[43m_read\u001b[49m\u001b[43m(\u001b[49m\u001b[43mfilepath_or_buffer\u001b[49m\u001b[43m,\u001b[49m\u001b[43m \u001b[49m\u001b[43mkwds\u001b[49m\u001b[43m)\u001b[49m\n",
      "File \u001b[0;32m~/tiniMLVM/experiments_venv/lib/python3.10/site-packages/pandas/io/parsers/readers.py:626\u001b[0m, in \u001b[0;36m_read\u001b[0;34m(filepath_or_buffer, kwds)\u001b[0m\n\u001b[1;32m    623\u001b[0m     \u001b[38;5;28;01mreturn\u001b[39;00m parser\n\u001b[1;32m    625\u001b[0m \u001b[38;5;28;01mwith\u001b[39;00m parser:\n\u001b[0;32m--> 626\u001b[0m     \u001b[38;5;28;01mreturn\u001b[39;00m \u001b[43mparser\u001b[49m\u001b[38;5;241;43m.\u001b[39;49m\u001b[43mread\u001b[49m\u001b[43m(\u001b[49m\u001b[43mnrows\u001b[49m\u001b[43m)\u001b[49m\n",
      "File \u001b[0;32m~/tiniMLVM/experiments_venv/lib/python3.10/site-packages/pandas/io/parsers/readers.py:1923\u001b[0m, in \u001b[0;36mTextFileReader.read\u001b[0;34m(self, nrows)\u001b[0m\n\u001b[1;32m   1916\u001b[0m nrows \u001b[38;5;241m=\u001b[39m validate_integer(\u001b[38;5;124m\"\u001b[39m\u001b[38;5;124mnrows\u001b[39m\u001b[38;5;124m\"\u001b[39m, nrows)\n\u001b[1;32m   1917\u001b[0m \u001b[38;5;28;01mtry\u001b[39;00m:\n\u001b[1;32m   1918\u001b[0m     \u001b[38;5;66;03m# error: \"ParserBase\" has no attribute \"read\"\u001b[39;00m\n\u001b[1;32m   1919\u001b[0m     (\n\u001b[1;32m   1920\u001b[0m         index,\n\u001b[1;32m   1921\u001b[0m         columns,\n\u001b[1;32m   1922\u001b[0m         col_dict,\n\u001b[0;32m-> 1923\u001b[0m     ) \u001b[38;5;241m=\u001b[39m \u001b[38;5;28;43mself\u001b[39;49m\u001b[38;5;241;43m.\u001b[39;49m\u001b[43m_engine\u001b[49m\u001b[38;5;241;43m.\u001b[39;49m\u001b[43mread\u001b[49m\u001b[43m(\u001b[49m\u001b[43m  \u001b[49m\u001b[38;5;66;43;03m# type: ignore[attr-defined]\u001b[39;49;00m\n\u001b[1;32m   1924\u001b[0m \u001b[43m        \u001b[49m\u001b[43mnrows\u001b[49m\n\u001b[1;32m   1925\u001b[0m \u001b[43m    \u001b[49m\u001b[43m)\u001b[49m\n\u001b[1;32m   1926\u001b[0m \u001b[38;5;28;01mexcept\u001b[39;00m \u001b[38;5;167;01mException\u001b[39;00m:\n\u001b[1;32m   1927\u001b[0m     \u001b[38;5;28mself\u001b[39m\u001b[38;5;241m.\u001b[39mclose()\n",
      "File \u001b[0;32m~/tiniMLVM/experiments_venv/lib/python3.10/site-packages/pandas/io/parsers/c_parser_wrapper.py:234\u001b[0m, in \u001b[0;36mCParserWrapper.read\u001b[0;34m(self, nrows)\u001b[0m\n\u001b[1;32m    232\u001b[0m \u001b[38;5;28;01mtry\u001b[39;00m:\n\u001b[1;32m    233\u001b[0m     \u001b[38;5;28;01mif\u001b[39;00m \u001b[38;5;28mself\u001b[39m\u001b[38;5;241m.\u001b[39mlow_memory:\n\u001b[0;32m--> 234\u001b[0m         chunks \u001b[38;5;241m=\u001b[39m \u001b[38;5;28;43mself\u001b[39;49m\u001b[38;5;241;43m.\u001b[39;49m\u001b[43m_reader\u001b[49m\u001b[38;5;241;43m.\u001b[39;49m\u001b[43mread_low_memory\u001b[49m\u001b[43m(\u001b[49m\u001b[43mnrows\u001b[49m\u001b[43m)\u001b[49m\n\u001b[1;32m    235\u001b[0m         \u001b[38;5;66;03m# destructive to chunks\u001b[39;00m\n\u001b[1;32m    236\u001b[0m         data \u001b[38;5;241m=\u001b[39m _concatenate_chunks(chunks)\n",
      "File \u001b[0;32mparsers.pyx:838\u001b[0m, in \u001b[0;36mpandas._libs.parsers.TextReader.read_low_memory\u001b[0;34m()\u001b[0m\n",
      "File \u001b[0;32mparsers.pyx:905\u001b[0m, in \u001b[0;36mpandas._libs.parsers.TextReader._read_rows\u001b[0;34m()\u001b[0m\n",
      "File \u001b[0;32mparsers.pyx:874\u001b[0m, in \u001b[0;36mpandas._libs.parsers.TextReader._tokenize_rows\u001b[0;34m()\u001b[0m\n",
      "File \u001b[0;32mparsers.pyx:891\u001b[0m, in \u001b[0;36mpandas._libs.parsers.TextReader._check_tokenize_status\u001b[0;34m()\u001b[0m\n",
      "File \u001b[0;32mparsers.pyx:2061\u001b[0m, in \u001b[0;36mpandas._libs.parsers.raise_parser_error\u001b[0;34m()\u001b[0m\n",
      "\u001b[0;31mParserError\u001b[0m: Error tokenizing data. C error: Expected 4 fields in line 5, saw 5\n"
     ]
    }
   ],
   "source": [
    "###get data from drift_detection_logs\n",
    "\n",
    "#read file and delete lines not starting with a number\n",
    "with open(\"./experiments/drift_detection_logs.log\", \"r\") as f:\n",
    "    text = f.read()\n",
    "\n",
    "text = re.sub(r\"^[^0-9].*\\n\", \"\", text, flags=re.MULTILINE)\n",
    "\n",
    "\n",
    "#delete INFO lines\n",
    "\n",
    "text = re.sub(r\"^.*INFO.*\\n\", \"\", text, flags=re.MULTILINE)\n",
    "\n",
    "#write the text back to the file\n",
    "\n",
    "with open(\"./experiments/drift_detection_logs_refined.log\", \"w\") as f:\n",
    "    f.write(text)\n",
    "\n",
    "df_drift_detection = pd.read_csv(\n",
    "    \"./experiments/drift_detection_logs_refined.log\", names=[\"timestamp\", \"level\",\"type\" ,\"log\"],sep=\"\\t\"\n",
    ")\n",
    "\n",
    "print(df_drift_detection)\n",
    "\n"
   ]
  },
  {
   "cell_type": "code",
   "execution_count": 67,
   "metadata": {},
   "outputs": [
    {
     "data": {
      "image/png": "[encoded data removed]",
      "text/plain": [
       "<Figure size 1000x500 with 1 Axes>"
      ]
     },
     "metadata": {},
     "output_type": "display_data"
    }
   ],
   "source": [
    "fig = plt.figure(figsize=(10, 5))\n",
    "\n",
    "ax = fig.gca()\n",
    "\n",
    "plt.scatter(df_drift_deploy[\"timestamp\"], df_drift_deploy[\"p_value\"], label=\"Drift Deploy\")\n",
    "\n",
    "for index, row in df_controller.iterrows():\n",
    "    #if operator is not present in log\n",
    "    if \"operator\" not in row[\"log\"] and \"Stopping reference data\" not in row[\"log\"]:\n",
    "        ax.axvline(row[\"timestamp\"], color=\"red\", linestyle=\"--\", label=\"Controller\")\n",
    "        ax.text(row[\"timestamp\"], 0.5, row[\"log\"], rotation=90)\n",
    "\n"
   ]
  }
 ],
 "metadata": {
  "kernelspec": {
   "display_name": "experiments_venv",
   "language": "python",
   "name": "python3"
  },
  "language_info": {
   "codemirror_mode": {
    "name": "ipython",
    "version": 3
   },
   "file_extension": ".py",
   "mimetype": "text/x-python",
   "name": "python",
   "nbconvert_exporter": "python",
   "pygments_lexer": "ipython3",
   "version": "3.10.12"
  }
 },
 "nbformat": 4,
 "nbformat_minor": 2
}
