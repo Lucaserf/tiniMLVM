{
 "cells": [
  {
   "cell_type": "code",
   "execution_count": 2,
   "metadata": {},
   "outputs": [
    {
     "name": "stdout",
     "output_type": "stream",
     "text": [
      "Index(['data', 'codice_spira', '00_00_01_00', '01_00_02_00', '02_00_03_00',\n",
      "       '03_00_04_00', '04_00_05_00', '05_00_06_00', '06_00_07_00',\n",
      "       '07_00_08_00', '08_00_09_00', '09_00_10_00', '10_00_11_00',\n",
      "       '11_00_12_00', '12_00_13_00', '13_00_14_00', '14_00_15_00',\n",
      "       '15_00_16_00', '16_00_17_00', '17_00_18_00', '18_00_19_00',\n",
      "       '19_00_20_00', '20_00_21_00', '21_00_22_00', '22_00_23_00',\n",
      "       '23_00_24_00', 'id_uni', 'livello', 'tipologia', 'codice',\n",
      "       'codice_arco', 'codice_via', 'nome_via', 'nodo_da', 'nodo_a',\n",
      "       'ordinanza', 'stato', 'codimpsem', 'direzione', 'angolo', 'longitudine',\n",
      "       'latitudine', 'geopoint', 'chiave', 'num_giorno_settimana'],\n",
      "      dtype='object')\n"
     ]
    }
   ],
   "source": [
    "import pandas as pd\n",
    "\n",
    "\n",
    "#read the data\n",
    "\n",
    "df = pd.read_csv('spire_2023.csv', sep=';')\n",
    "\n",
    "print(df.columns)\n"
   ]
  },
  {
   "cell_type": "code",
   "execution_count": null,
   "metadata": {},
   "outputs": [],
   "source": []
  }
 ],
 "metadata": {
  "kernelspec": {
   "display_name": "experiments_venv",
   "language": "python",
   "name": "python3"
  },
  "language_info": {
   "codemirror_mode": {
    "name": "ipython",
    "version": 3
   },
   "file_extension": ".py",
   "mimetype": "text/x-python",
   "name": "python",
   "nbconvert_exporter": "python",
   "pygments_lexer": "ipython3",
   "version": "3.10.12"
  }
 },
 "nbformat": 4,
 "nbformat_minor": 2
}
